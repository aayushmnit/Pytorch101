{
 "cells": [
  {
   "cell_type": "markdown",
   "metadata": {
    "heading_collapsed": true
   },
   "source": [
    "## Import Library"
   ]
  },
  {
   "cell_type": "code",
   "execution_count": 32,
   "metadata": {
    "ExecuteTime": {
     "end_time": "2021-07-05T00:22:20.241108Z",
     "start_time": "2021-07-05T00:22:20.237749Z"
    },
    "hidden": true
   },
   "outputs": [],
   "source": [
    "import torch\n",
    "from sklearn.model_selection import train_test_split\n",
    "from sklearn.datasets import make_classification\n",
    "from sklearn import metrics"
   ]
  },
  {
   "cell_type": "markdown",
   "metadata": {},
   "source": [
    "## Defining a Custom Dataset"
   ]
  },
  {
   "cell_type": "code",
   "execution_count": 5,
   "metadata": {
    "ExecuteTime": {
     "end_time": "2021-07-05T00:00:37.144484Z",
     "start_time": "2021-07-05T00:00:37.140632Z"
    }
   },
   "outputs": [],
   "source": [
    "class CustomDataset:\n",
    "    def __init__(self, data, targets):\n",
    "        self.data = data\n",
    "        self.targets = targets\n",
    "        \n",
    "    def __len__(self):\n",
    "        return self.data.shape[0]\n",
    "    \n",
    "    def __getitem__(self, idx):\n",
    "        current_sample = self.data[idx, :]\n",
    "        current_target = self.targets[idx]\n",
    "        return {\n",
    "            \"x\": torch.tensor(current_sample, dtype=torch.float),\n",
    "            \"y\": torch.tensor(current_target, dtype=torch.long)\n",
    "        }"
   ]
  },
  {
   "cell_type": "code",
   "execution_count": 4,
   "metadata": {
    "ExecuteTime": {
     "end_time": "2021-07-05T00:00:35.697448Z",
     "start_time": "2021-07-05T00:00:35.692573Z"
    }
   },
   "outputs": [],
   "source": [
    "## Creating dummy data\n",
    "data, targets = make_classification(n_samples=1000)"
   ]
  },
  {
   "cell_type": "code",
   "execution_count": 7,
   "metadata": {
    "ExecuteTime": {
     "end_time": "2021-07-05T00:01:53.866051Z",
     "start_time": "2021-07-05T00:01:53.861013Z"
    }
   },
   "outputs": [],
   "source": [
    "## Stratified split\n",
    "train_data, test_data, train_targets, test_targets = train_test_split(\n",
    "    data, targets, stratify=targets)"
   ]
  },
  {
   "cell_type": "code",
   "execution_count": 8,
   "metadata": {
    "ExecuteTime": {
     "end_time": "2021-07-05T00:02:21.508269Z",
     "start_time": "2021-07-05T00:02:21.505185Z"
    }
   },
   "outputs": [],
   "source": [
    "## Creating Dataset\n",
    "train_dataset = CustomDataset(train_data, train_targets)\n",
    "test_dataset = CustomDataset(test_data, test_targets)"
   ]
  },
  {
   "cell_type": "code",
   "execution_count": 9,
   "metadata": {
    "ExecuteTime": {
     "end_time": "2021-07-05T00:03:57.959967Z",
     "start_time": "2021-07-05T00:03:57.956668Z"
    }
   },
   "outputs": [],
   "source": [
    "## Creating Dataloaders\n",
    "train_loader = torch.utils.data.DataLoader(train_dataset, batch_size=4, num_workers=2)\n",
    "test_loader = torch.utils.data.DataLoader(test_dataset, batch_size=4, num_workers=2)"
   ]
  },
  {
   "cell_type": "code",
   "execution_count": 15,
   "metadata": {
    "ExecuteTime": {
     "end_time": "2021-07-05T00:12:51.927500Z",
     "start_time": "2021-07-05T00:12:51.924216Z"
    }
   },
   "outputs": [],
   "source": [
    "model = lambda x,w,b: torch.matmul(x,w) + b"
   ]
  },
  {
   "cell_type": "code",
   "execution_count": 16,
   "metadata": {
    "ExecuteTime": {
     "end_time": "2021-07-05T00:12:53.598071Z",
     "start_time": "2021-07-05T00:12:53.593545Z"
    }
   },
   "outputs": [
    {
     "data": {
      "text/plain": [
       "(750, 20)"
      ]
     },
     "execution_count": 16,
     "metadata": {},
     "output_type": "execute_result"
    }
   ],
   "source": [
    "train_data.shape"
   ]
  },
  {
   "cell_type": "code",
   "execution_count": 26,
   "metadata": {
    "ExecuteTime": {
     "end_time": "2021-07-05T00:19:32.078954Z",
     "start_time": "2021-07-05T00:19:28.669583Z"
    }
   },
   "outputs": [
    {
     "name": "stdout",
     "output_type": "stream",
     "text": [
      "0 15.981553386500542\n",
      "1 6.919846861286366\n",
      "2 3.1123846014763448\n",
      "3 1.4483085493061771\n",
      "4 0.7075563029267211\n",
      "5 0.37370014080698505\n",
      "6 0.2216868143456869\n",
      "7 0.1518167442335014\n",
      "8 0.11940561735784595\n",
      "9 0.1042313200590062\n"
     ]
    }
   ],
   "source": [
    "W = torch.randn(20,1, requires_grad = True)\n",
    "b = torch.randn(1, requires_grad = True)\n",
    "learning_rate = 1e-3\n",
    "\n",
    "for epoch in range(10):\n",
    "    epoch_loss = 0\n",
    "    counter = 0\n",
    "    for data in train_loader:\n",
    "        xtrain = data[\"x\"]\n",
    "        ytrain = data[\"y\"]\n",
    "            \n",
    "        output = model(x=xtrain, w=W, b=b)\n",
    "        loss = torch.mean((ytrain.view(-1) - output.view(-1))**2)\n",
    "        epoch_loss += loss.item()\n",
    "        loss.backward()\n",
    "        \n",
    "        with torch.no_grad():\n",
    "            W = W - learning_rate*W.grad\n",
    "            b = b - learning_rate*b.grad\n",
    "            \n",
    "        W.requires_grad_(True)\n",
    "        b.requires_grad_(True)\n",
    "        counter += 1\n",
    "        \n",
    "    print(epoch, epoch_loss/counter)"
   ]
  },
  {
   "cell_type": "code",
   "execution_count": 34,
   "metadata": {
    "ExecuteTime": {
     "end_time": "2021-07-05T00:22:48.022733Z",
     "start_time": "2021-07-05T00:22:47.905475Z"
    }
   },
   "outputs": [],
   "source": [
    "outputs = []\n",
    "labels = []\n",
    "with torch.no_grad():\n",
    "    for data in test_loader:\n",
    "        xtest = data[\"x\"]\n",
    "        ytest = data[\"y\"]\n",
    "        \n",
    "        output = model(x=xtest, w=W, b=b)\n",
    "        labels.append(ytest)\n",
    "        outputs.append(output)"
   ]
  },
  {
   "cell_type": "code",
   "execution_count": 36,
   "metadata": {
    "ExecuteTime": {
     "end_time": "2021-07-05T00:23:06.634102Z",
     "start_time": "2021-07-05T00:23:06.626820Z"
    }
   },
   "outputs": [
    {
     "data": {
      "text/plain": [
       "0.9441244239631337"
      ]
     },
     "execution_count": 36,
     "metadata": {},
     "output_type": "execute_result"
    }
   ],
   "source": [
    "metrics.roc_auc_score(torch.cat(labels).view(-1), torch.cat(outputs).view(-1))"
   ]
  }
 ],
 "metadata": {
  "kernelspec": {
   "display_name": "Python 3",
   "language": "python",
   "name": "python3"
  },
  "language_info": {
   "codemirror_mode": {
    "name": "ipython",
    "version": 3
   },
   "file_extension": ".py",
   "mimetype": "text/x-python",
   "name": "python",
   "nbconvert_exporter": "python",
   "pygments_lexer": "ipython3",
   "version": "3.8.5"
  },
  "toc": {
   "base_numbering": 1,
   "nav_menu": {},
   "number_sections": true,
   "sideBar": true,
   "skip_h1_title": false,
   "title_cell": "Table of Contents",
   "title_sidebar": "Contents",
   "toc_cell": false,
   "toc_position": {},
   "toc_section_display": true,
   "toc_window_display": true
  }
 },
 "nbformat": 4,
 "nbformat_minor": 4
}
