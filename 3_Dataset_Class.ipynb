{
 "cells": [
  {
   "cell_type": "markdown",
   "metadata": {
    "heading_collapsed": true
   },
   "source": [
    "## Import Library"
   ]
  },
  {
   "cell_type": "code",
   "execution_count": 44,
   "metadata": {
    "ExecuteTime": {
     "end_time": "2021-07-04T01:58:29.755487Z",
     "start_time": "2021-07-04T01:58:29.752502Z"
    },
    "hidden": true
   },
   "outputs": [],
   "source": [
    "from sklearn.datasets import make_classification\n",
    "import torch\n",
    "import cv2\n",
    "import numpy as np"
   ]
  },
  {
   "cell_type": "markdown",
   "metadata": {
    "heading_collapsed": true
   },
   "source": [
    "## Custom class for Tabular Data"
   ]
  },
  {
   "cell_type": "code",
   "execution_count": 33,
   "metadata": {
    "ExecuteTime": {
     "end_time": "2021-07-04T01:36:57.928977Z",
     "start_time": "2021-07-04T01:36:57.924226Z"
    },
    "hidden": true
   },
   "outputs": [],
   "source": [
    "class CustomDataset:\n",
    "    def __init__(self, data, targets):\n",
    "        self.data = data\n",
    "        self.targets = targets\n",
    "        \n",
    "    def __len__(self):\n",
    "        return self.data.shape[0]\n",
    "    \n",
    "    def __getitem__(self, idx):\n",
    "        current_sample = self.data[idx, :]\n",
    "        current_target = self.targets[idx]\n",
    "        return {\n",
    "            \"x\": torch.tensor(current_sample, dtype=torch.float),\n",
    "            \"y\": torch.tensor(current_target, dtype=torch.long)\n",
    "        }"
   ]
  },
  {
   "cell_type": "code",
   "execution_count": 21,
   "metadata": {
    "ExecuteTime": {
     "end_time": "2021-07-04T01:34:58.720161Z",
     "start_time": "2021-07-04T01:34:58.715102Z"
    },
    "hidden": true
   },
   "outputs": [],
   "source": [
    "data, targets = make_classification(n_samples=1000)"
   ]
  },
  {
   "cell_type": "code",
   "execution_count": 22,
   "metadata": {
    "ExecuteTime": {
     "end_time": "2021-07-04T01:35:00.447381Z",
     "start_time": "2021-07-04T01:35:00.443311Z"
    },
    "hidden": true
   },
   "outputs": [
    {
     "data": {
      "text/plain": [
       "(1000, 20)"
      ]
     },
     "execution_count": 22,
     "metadata": {},
     "output_type": "execute_result"
    }
   ],
   "source": [
    "data.shape"
   ]
  },
  {
   "cell_type": "code",
   "execution_count": 23,
   "metadata": {
    "ExecuteTime": {
     "end_time": "2021-07-04T01:35:01.063550Z",
     "start_time": "2021-07-04T01:35:01.059678Z"
    },
    "hidden": true
   },
   "outputs": [
    {
     "data": {
      "text/plain": [
       "(1000,)"
      ]
     },
     "execution_count": 23,
     "metadata": {},
     "output_type": "execute_result"
    }
   ],
   "source": [
    "targets.shape"
   ]
  },
  {
   "cell_type": "code",
   "execution_count": 34,
   "metadata": {
    "ExecuteTime": {
     "end_time": "2021-07-04T01:37:01.374805Z",
     "start_time": "2021-07-04T01:37:01.371693Z"
    },
    "hidden": true
   },
   "outputs": [],
   "source": [
    "custom_dataset = CustomDataset(data=data, targets=targets)"
   ]
  },
  {
   "cell_type": "code",
   "execution_count": 39,
   "metadata": {
    "ExecuteTime": {
     "end_time": "2021-07-04T01:37:22.966477Z",
     "start_time": "2021-07-04T01:37:22.961093Z"
    },
    "hidden": true
   },
   "outputs": [
    {
     "data": {
      "text/plain": [
       "{'x': tensor([ 1.4491,  0.9214,  0.5990, -0.0620,  0.3955, -0.4622,  1.3267,  0.2243,\n",
       "         -0.4066,  0.5722,  1.9725, -1.2574, -1.0772, -0.3190,  0.6697, -0.5596,\n",
       "         -0.1450, -0.4574, -2.0619, -0.1304]),\n",
       " 'y': tensor(1)}"
      ]
     },
     "execution_count": 39,
     "metadata": {},
     "output_type": "execute_result"
    }
   ],
   "source": [
    "custom_dataset[333]"
   ]
  },
  {
   "cell_type": "code",
   "execution_count": 41,
   "metadata": {
    "ExecuteTime": {
     "end_time": "2021-07-04T01:38:16.254345Z",
     "start_time": "2021-07-04T01:38:16.247500Z"
    },
    "hidden": true
   },
   "outputs": [
    {
     "name": "stdout",
     "output_type": "stream",
     "text": [
      "{'x': tensor([ 0.9401, -0.5646,  0.9065, -0.2736,  0.7951, -0.7689, -1.4824,  1.0896,\n",
      "         0.7769, -2.1315, -0.5732, -1.5208, -0.8527,  0.4720,  1.0370, -0.7303,\n",
      "        -0.2171,  0.4234,  1.4822,  0.3679]), 'y': tensor(1)}\n",
      "{'x': tensor([-0.5750, -1.7812,  0.6492,  1.8493,  1.4874, -0.2236,  0.2000,  1.0794,\n",
      "         0.7218, -2.0462,  1.1931, -1.6442,  0.2957, -0.2869, -0.4060, -1.2922,\n",
      "         0.1581, -0.5465,  0.7566, -0.6664]), 'y': tensor(1)}\n",
      "{'x': tensor([-1.3684e+00, -2.5720e-02, -1.1606e+00, -1.9270e+00, -9.2557e-01,\n",
      "         5.8387e-03,  1.7100e+00, -4.7221e-01,  1.4867e+00,  4.1096e-01,\n",
      "        -8.6088e-01,  4.7000e-01, -9.0069e-01, -7.7805e-01,  5.0999e-01,\n",
      "         6.6844e-01, -1.6029e-01, -3.5499e-01,  2.0744e-01,  1.2287e-03]), 'y': tensor(0)}\n"
     ]
    }
   ],
   "source": [
    "for idx in range(len(custom_dataset)):\n",
    "    print(custom_dataset[idx])\n",
    "    if idx == 2:\n",
    "        break"
   ]
  },
  {
   "cell_type": "markdown",
   "metadata": {
    "heading_collapsed": true
   },
   "source": [
    "## Custom class for NLP problem"
   ]
  },
  {
   "cell_type": "code",
   "execution_count": 42,
   "metadata": {
    "ExecuteTime": {
     "end_time": "2021-07-04T01:51:19.513735Z",
     "start_time": "2021-07-04T01:51:19.509285Z"
    },
    "hidden": true
   },
   "outputs": [],
   "source": [
    "## Classification/ Regression problems\n",
    "class CustomDatasetNLP:\n",
    "    def __init__(self, data, targets, tokenizer):\n",
    "        self.data = data\n",
    "        self.targets = targets\n",
    "        self.tokenizer = tokenizer\n",
    "        pass\n",
    "    \n",
    "    def __len__(self):\n",
    "        return len(self.data)\n",
    "    \n",
    "    def __getitem__(self, idx):\n",
    "        text = self.data[idx]\n",
    "        target = self.targets[idx]\n",
    "        \n",
    "        input_ids = tokenizer(text)\n",
    "        # [101, 42, 47, 27 216 .......]\n",
    "        # padding\n",
    "        \n",
    "        return {\n",
    "            \"input_ids\": torch.tensor(input_ids, dtype=torch.long),\n",
    "            \"target\": torch.tensor(target)\n",
    "        }"
   ]
  },
  {
   "cell_type": "markdown",
   "metadata": {},
   "source": [
    "## Custom class for Image/Vision problem"
   ]
  },
  {
   "cell_type": "code",
   "execution_count": null,
   "metadata": {},
   "outputs": [],
   "source": [
    "class CustomDataset:\n",
    "    def __init__(self, image_paths, targets, augmentations=None):\n",
    "        self.image_paths = image_paths\n",
    "        self.targets = targets\n",
    "        self.augmentations = augmentations\n",
    "        \n",
    "    def __len__(self):\n",
    "        return len(self.image_paths)\n",
    "    \n",
    "    def __getitem__(self):\n",
    "        target = self.targets[idx]\n",
    "        image = cv2.imread(self.image_paths[idx])\n",
    "        ## CV2 read in BGR convert to RGB\n",
    "        image = cv2.cvtColor(image, cv2.COLOR_BGR2RGB)\n",
    "        if self.augmentations is not None:\n",
    "            augmented = self.augmentations(image=image)\n",
    "            image = augmented[\"image\"]\n",
    "        image = np.transpose(image, (2,0,1)).astype(np.float32) ## Channel First\n",
    "        return {\n",
    "            \"image\": torch.tensor(image),\n",
    "            \"target\": torch.tensor(target)\n",
    "        }"
   ]
  }
 ],
 "metadata": {
  "kernelspec": {
   "display_name": "Python 3",
   "language": "python",
   "name": "python3"
  },
  "language_info": {
   "codemirror_mode": {
    "name": "ipython",
    "version": 3
   },
   "file_extension": ".py",
   "mimetype": "text/x-python",
   "name": "python",
   "nbconvert_exporter": "python",
   "pygments_lexer": "ipython3",
   "version": "3.8.5"
  },
  "toc": {
   "base_numbering": 1,
   "nav_menu": {},
   "number_sections": true,
   "sideBar": true,
   "skip_h1_title": false,
   "title_cell": "Table of Contents",
   "title_sidebar": "Contents",
   "toc_cell": false,
   "toc_position": {},
   "toc_section_display": true,
   "toc_window_display": true
  }
 },
 "nbformat": 4,
 "nbformat_minor": 4
}
